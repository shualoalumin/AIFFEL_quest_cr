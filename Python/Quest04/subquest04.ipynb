{
  "cells": [
    {
      "cell_type": "code",
      "execution_count": 1,
      "metadata": {
        "id": "EJOxCiJimvgt"
      },
      "outputs": [
        {
          "name": "stdout",
          "output_type": "stream",
          "text": [
            "Invalid input. Please enter an integer.\n",
            "Invalid input. Please enter an integer.\n",
            "Result: 5 + 5 = 10\n",
            "Invalid input. Please enter y or n.\n",
            "Invalid input. Please enter y or n.\n",
            "Invalid input. Please enter y or n.\n",
            "Calculator is terminated.\n"
          ]
        },
        {
          "data": {
            "text/plain": [
              "\"\\n$$$주요 디버깅 과정$$$\\n1. 연산자 예외처리\\n2. 계산 result 반환 과정\\n3. 계산 결과문 출력 과정\\n4. 계속 여부 입력 과정\\n\\n\\n$$$김대환(코더) 회고$$$\\n1. 연산자예외처리 과정에서 예외처리 조건의 'return값 설정으로 인한 버그'가 원인파악과정에서 소요시간이 길었다.\\n2. 결과문 출력 과정이 스킵되는 원인이 출력문 위치 수정으로 calculate() 전체적인 구조 수정이 필요했다.\\n3. 구조 수정 과정에서 제로디비젼에 대한 return값을 none으로 설정하면 해결되었는데 이부분에 대한 follow-up 과정이 필요했다.\\n4. Quest 03까지 진행해오면서 성장한 자신을 발견하고 뿌듯함을 느꼈다.   \\n\""
            ]
          },
          "execution_count": 1,
          "metadata": {},
          "output_type": "execute_result"
        }
      ],
      "source": [
        "''' This is a program module that runs an integer calculator.'''\n",
        "\n",
        "import math\n",
        "\n",
        "#1 입력값 ≠ 정수 → ValueError 처리\n",
        "def integer_input(prompt):\n",
        "    while True: #정수를 입력할 때까지 반복\n",
        "        try:\n",
        "            input_num = int(input(prompt))\n",
        "            return input_num\n",
        "        except ValueError: #2 잘못된 입력값 → 예외처리\n",
        "            print(\"Invalid input. Please enter an integer.\") \n",
        "\n",
        "\n",
        "\n",
        "# 연산식 정의\n",
        "def calculator():\n",
        "    \n",
        "    num1 = integer_input(\"Input first number: \")\n",
        "\n",
        "    ''' Exception handling process for operator input = while, break, else'''\n",
        "    \n",
        "    while True:\n",
        "        operator = input(\"Input operator(+, -, *, /, **): \").strip() ### .strip() 추가 중요. 공백포함시 연산자 인식오류\n",
        "        if operator in ['+','-','*','/','**']:\n",
        "            break\n",
        "        else:\n",
        "            print(\"Unsupported operator.\") #4 지원하지 않는 연산자 예외처리\n",
        "            \n",
        "    num2 = integer_input(\"Input second number: \")\n",
        "\n",
        "\n",
        "    ''' Calculation result return process = try, if, elif, else'''\n",
        "    try:\n",
        "        if operator == '+':\n",
        "            result = num1 + num2\n",
        "        elif operator == '-':\n",
        "            result = num1 - num2\n",
        "        elif operator == '*':\n",
        "            result = num1 * num2\n",
        "        elif operator == '/':\n",
        "            result = num1 / num2\n",
        "        elif operator == '**':\n",
        "            result = math.pow(num1, num2) #5 math.pow 함수모듈 사용\n",
        "        \n",
        "        print(f\"Result: {num1} {operator} {num2} = {result}\")\n",
        "        return result\n",
        "\n",
        "    except ZeroDivisionError:\n",
        "        print(\"Cannot be divided by zero.\") #3 나눗셈에서 0으로 나눌 수 없는 경우 예외처리\n",
        "        return None\n",
        "        \n",
        "\n",
        "\n",
        "# 계산 실행 \n",
        "while True:\n",
        "    calculator()\n",
        "    continue_input = input(\"Continue? (y/n): \").strip().lower()  \n",
        "    #6 올바른 입력이 들어올 때까지 반복\n",
        "    while continue_input not in ['y', 'n']:\n",
        "        print(\"Invalid input. Please enter y or n.\")\n",
        "        continue_input = input(\"Continue? (y/n): \").strip().lower()  \n",
        "    \n",
        "    if continue_input == 'n':\n",
        "        print(\"Calculator is terminated.\")\n",
        "        break\n",
        "\n",
        "\n",
        "\n",
        "'''\n",
        "$$$주요 디버깅 과정$$$\n",
        "1. 연산자 예외처리\n",
        "2. 계산 result 반환 과정\n",
        "3. 계산 결과문 출력 과정\n",
        "4. 계속 여부 입력 과정\n",
        "\n",
        "\n",
        "$$$김대환(코더) 회고$$$\n",
        "1. 연산자예외처리 과정에서 예외처리 조건의 'return값 설정으로 인한 버그'가 원인파악과정에서 소요시간이 길었다.\n",
        "2. 결과문 출력 과정이 스킵되는 원인이 출력문 위치 수정으로 calculate() 전체적인 구조 수정이 필요했다.\n",
        "3. 구조 수정 과정에서 제로디비젼에 대한 return값을 none으로 설정하면 해결되었는데 이부분에 대한 follow-up 과정이 필요했다.\n",
        "4. Quest 03까지 진행해오면서 성장한 자신을 발견하고 뿌듯함을 느꼈다.   \n",
        "'''\n",
        "\n"
      ]
    }
  ],
  "metadata": {
    "colab": {
      "provenance": []
    },
    "kernelspec": {
      "display_name": "Python 3",
      "name": "python3"
    },
    "language_info": {
      "codemirror_mode": {
        "name": "ipython",
        "version": 3
      },
      "file_extension": ".py",
      "mimetype": "text/x-python",
      "name": "python",
      "nbconvert_exporter": "python",
      "pygments_lexer": "ipython3",
      "version": "3.13.0"
    }
  },
  "nbformat": 4,
  "nbformat_minor": 0
}
